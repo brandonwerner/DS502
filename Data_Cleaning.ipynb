{
 "cells": [
  {
   "cell_type": "code",
   "execution_count": 107,
   "metadata": {
    "collapsed": true
   },
   "outputs": [],
   "source": [
    "import pandas as pd\n",
    "import numpy as np\n",
    "import os"
   ]
  },
  {
   "cell_type": "code",
   "execution_count": 197,
   "metadata": {
    "collapsed": true
   },
   "outputs": [],
   "source": [
    "# # example air quality file\n",
    "# df_a= pd.read_csv(\"data/annual_aqi_by_county_1980.csv\")\n",
    "# df_a.head()"
   ]
  },
  {
   "cell_type": "code",
   "execution_count": 214,
   "metadata": {},
   "outputs": [],
   "source": [
    "# exampel health file\n",
    "# df_h = pd.read_csv(\"data/IHME_USA_COUNTY_MORTALITY_RATES_1980_2014_ALABAMA_Y2017M05D19.csv\")\n",
    "# df_h.head()"
   ]
  },
  {
   "cell_type": "code",
   "execution_count": 69,
   "metadata": {},
   "outputs": [],
   "source": [
    "def rename_county_h(df, state):\n",
    "# df should have \"location_name\" as the index\n",
    "# state is string\n",
    "# remove \" county\" from the county name, prepend state name\n",
    "# apply to each state mortality rate file \n",
    "    new_index = []\n",
    "    for old_name in df.index:\n",
    "    \n",
    "        end = len(old_name)\n",
    "        delete = len(\" County\")\n",
    "        new = state+\"_\"+old_name[0:end-delete]\n",
    "        new_index.append(new.lower())\n",
    "        \n",
    "    df.index = new_index\n",
    "    return df"
   ]
  },
  {
   "cell_type": "code",
   "execution_count": 70,
   "metadata": {
    "collapsed": true
   },
   "outputs": [],
   "source": [
    "#get collection of tables each for one code, one county, one year\n",
    "# NOT USED\n",
    "\n",
    "# def transform_state(df, codes):\n",
    "\n",
    "#     df_by_code = {}\n",
    "#     #   get rid of state summaries\n",
    "#     state = df.iloc[0][\"location_name\"]\n",
    "#     df_h = df[df[\"FIPS\"] >100]\n",
    "#     df_h.set_index('location_name',inplace=True)\n",
    "#     years = df_h['year_id'].drop_duplicates()\n",
    "    \n",
    "#     #get tables by year,code\n",
    "#     for c in codes:\n",
    "#         df_by_code[c]={}\n",
    "#         dfc = df_h[df_h[\"cause_id\"] == c]\n",
    "#         #   organize metadata by county\n",
    "#         df_meta = dfc[['location_id', 'FIPS', 'cause_id', 'cause_name']].drop_duplicates()\n",
    "#         for y in years:\n",
    "#             dfy = dfc[dfc['year_id']==y]\n",
    "#             df_genders = pd.pivot_table(dfy, values='mx', index='location_name', columns=['sex'])\n",
    "#             df_genders[\"Year\"] = y\n",
    "#             df_genders.rename(index=str, columns={\"Both\": \"both_gender_resp_mort\", \"Female\": \"female_resp_mort\", \"Male\": \"male_resp_mort\"}, inplace=True)\n",
    "#             df_by_county = pd.concat([df_meta, df_genders], axis=1, join='inner')\n",
    "#             rename_county_h(df_by_county, state)\n",
    "#             df_by_code[c][y] =df_by_county\n",
    "#     return df_by_code"
   ]
  },
  {
   "cell_type": "code",
   "execution_count": 180,
   "metadata": {
    "collapsed": true
   },
   "outputs": [],
   "source": [
    "#get single table from a health file for one state, one code, one year\n",
    "# df is dataframe of entire health file for one state\n",
    "# cause of dealth code\n",
    "def get_single_table_health(df, code, year):\n",
    "\n",
    "#     get rid of state summaries\n",
    "    state = df.iloc[0][\"location_name\"]\n",
    "    df_h = df[df[\"FIPS\"] >100]\n",
    "#     select year\n",
    "    df_h = df_h[df_h['year_id']==year]\n",
    "    df_h.set_index('location_name',inplace=True)\n",
    "    \n",
    "#     select code\n",
    "    dfc = df_h[df_h[\"cause_id\"] == code]\n",
    "    \n",
    "#     organize metadata by county\n",
    "    df_meta = dfc[['location_id', 'FIPS', 'cause_id', 'cause_name']].drop_duplicates()\n",
    "        \n",
    "#     transform mortality rates by gender\n",
    "    df_genders = pd.pivot_table(dfc, values='mx', index='location_name', columns=['sex'])\n",
    "    df_genders.rename(index=str, columns={\"Both\": \"both_gender_resp_mort\", \"Female\": \"female_resp_mort\", \"Male\": \"male_resp_mort\"}, inplace=True)\n",
    "    df_by_county = pd.concat([df_meta, df_genders], axis=1, join='inner')\n",
    "    return rename_county_h(df_by_county, state)"
   ]
  },
  {
   "cell_type": "code",
   "execution_count": 183,
   "metadata": {
    "scrolled": true
   },
   "outputs": [],
   "source": [
    "# transform the air quality data to be indexed by statename_countyname \n",
    "# normalized the air quality metrics by number of days reorded in a location \n",
    "def transform_air(df_a):\n",
    "    # normalize values\n",
    "    df_a.columns.values\n",
    "    to_norm = ['Good Days','Moderate Days', 'Unhealthy for Sensitive Groups Days',\n",
    "       'Unhealthy Days', 'Very Unhealthy Days', 'Hazardous Days','Days CO',\n",
    "       'Days NO2', 'Days Ozone', 'Days SO2', 'Days PM2.5', 'Days PM10']\n",
    "    \n",
    "    for c in to_norm:\n",
    "        df_a[c] = df_a[c]/df_a['Days with AQI']\n",
    "\n",
    "    df_a[\"location_name\"] = (df_a['State']+\"_\"+df_a['County']).str.lower()\n",
    "    df_a.drop(['State','County'], axis=1, inplace=True)\n",
    "    df_a.set_index('location_name', inplace=True)\n",
    "    return df_a"
   ]
  },
  {
   "cell_type": "code",
   "execution_count": 201,
   "metadata": {
    "scrolled": false
   },
   "outputs": [],
   "source": [
    "directory = 'data'\n",
    "health_files = []\n",
    "air_files = []\n",
    "years = []\n",
    "joined =pd.DataFrame()\n",
    "\n",
    "# get health files\n",
    "for filename in os.listdir(directory):        \n",
    "    if filename.startswith(\"IHME\"): \n",
    "        health_files.append(os.path.join(directory, filename))\n",
    "        \n",
    "codes = [508, 515, 519]\n",
    "for c in codes:\n",
    "    print(\"compiling code: \" + str(c))\n",
    "    \n",
    "    # get health data across all states for one year\n",
    "    for filename in os.listdir(directory):\n",
    "        if filename.startswith(\"annual_aqi\"):\n",
    "#             print(filename)\n",
    "            year = int(filename[len(filename)-8 :len(filename)-4])\n",
    "#             print(year)\n",
    "            air_file = os.path.join(directory,filename)\n",
    "            dfa = transform_air(pd.read_csv(air_file))\n",
    "#             print(\"got transformed air file\")\n",
    "        \n",
    "#           get first table\n",
    "            df = pd.read_csv(health_files[0])\n",
    "            df = get_single_table_health(df, c, year)\n",
    "            \n",
    "#             print(\"health file 0\")\n",
    "#             i=1\n",
    "            for h in health_files[1:]:\n",
    "#                 print(\"health file \" + str(i))\n",
    "                df_h = pd.read_csv(h)\n",
    "                df = df.append(get_single_table_health(df_h, c, year))\n",
    "                i+=1\n",
    "            joined = pd.concat([df, dfa], axis=1, join='inner')\n",
    "#             print(\"got joined \")\n",
    "            print(joined.shape)\n",
    "            joined.to_csv(\"data_cleaned/\"+str(year)+\"_\"+str(c)+\"_data.csv\")\n",
    "            print(\"data_cleaned/\"+str(year)+\"_\"+str(c)+\"_data.csv\")"
   ]
  }
 ],
 "metadata": {
  "kernelspec": {
   "display_name": "Python 3",
   "language": "python",
   "name": "python3"
  },
  "language_info": {
   "codemirror_mode": {
    "name": "ipython",
    "version": 3
   },
   "file_extension": ".py",
   "mimetype": "text/x-python",
   "name": "python",
   "nbconvert_exporter": "python",
   "pygments_lexer": "ipython3",
   "version": "3.6.3"
  }
 },
 "nbformat": 4,
 "nbformat_minor": 2
}
