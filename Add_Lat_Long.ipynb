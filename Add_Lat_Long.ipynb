{
 "cells": [
  {
   "cell_type": "code",
   "execution_count": 79,
   "metadata": {
    "collapsed": true
   },
   "outputs": [],
   "source": [
    "import pandas as pd\n",
    "import numpy as np\n",
    "import os\n",
    "import matplotlib\n",
    "import numpy as np\n",
    "import matplotlib.pyplot as plt\n",
    "%matplotlib inline  "
   ]
  },
  {
   "cell_type": "code",
   "execution_count": 80,
   "metadata": {
    "collapsed": true
   },
   "outputs": [],
   "source": [
    "# write to file\n",
    "train = pd.read_csv(\"data_cleaned/training_all_counties_all_years.csv\")\n",
    "validate = pd.read_csv(\"data_cleaned/validate_all_counties_all_years.csv\")"
   ]
  },
  {
   "cell_type": "code",
   "execution_count": 81,
   "metadata": {},
   "outputs": [],
   "source": [
    "train.rename(columns={'both_gender_resp_mort': \"combined_mort_y\", \n",
    "                      \"male_resp_mort\": \"male_mort_y\", \"female_resp_mort\":\"female_mort_y\"}, inplace=True)\n"
   ]
  },
  {
   "cell_type": "code",
   "execution_count": 82,
   "metadata": {},
   "outputs": [
    {
     "data": {
      "text/plain": [
       "array(['Unnamed: 0', 'index', 'Unnamed: 0.1', 'FIPS', 'combined_mort_y',\n",
       "       'cause_id', 'cause_name', 'female_mort_y', 'location_id',\n",
       "       'male_mort_y', 'Year', 'Days with AQI', 'Good Days',\n",
       "       'Moderate Days', 'Unhealthy for Sensitive Groups Days',\n",
       "       'Unhealthy Days', 'Very Unhealthy Days', 'Hazardous Days',\n",
       "       'Max AQI', '90th Percentile AQI', 'Median AQI', 'Days CO',\n",
       "       'Days NO2', 'Days Ozone', 'Days SO2', 'Days PM2.5', 'Days PM10'], dtype=object)"
      ]
     },
     "execution_count": 82,
     "metadata": {},
     "output_type": "execute_result"
    }
   ],
   "source": [
    "train.columns.values"
   ]
  },
  {
   "cell_type": "code",
   "execution_count": 83,
   "metadata": {},
   "outputs": [],
   "source": [
    "train.drop(['Unnamed: 0','index','Unnamed: 0.1','cause_id', 'cause_name'], axis=1, inplace=True)\n",
    "validate.drop(['Unnamed: 0','index','Unnamed: 0.1','cause_id', 'cause_name'], axis=1, inplace=True)"
   ]
  },
  {
   "cell_type": "code",
   "execution_count": 84,
   "metadata": {
    "collapsed": true
   },
   "outputs": [],
   "source": [
    "ll = pd.read_csv(\"lat_long.csv\")"
   ]
  },
  {
   "cell_type": "code",
   "execution_count": 85,
   "metadata": {},
   "outputs": [
    {
     "data": {
      "text/plain": [
       "array(['State', 'FIPS', 'County', 'Latitude', 'Longitude'], dtype=object)"
      ]
     },
     "execution_count": 85,
     "metadata": {},
     "output_type": "execute_result"
    }
   ],
   "source": [
    "ll.columns.values"
   ]
  },
  {
   "cell_type": "code",
   "execution_count": 86,
   "metadata": {
    "collapsed": true
   },
   "outputs": [],
   "source": [
    "ll.drop(['State', 'County'], axis=1, inplace=True)"
   ]
  },
  {
   "cell_type": "code",
   "execution_count": 87,
   "metadata": {},
   "outputs": [],
   "source": [
    "train = train.merge(ll)\n",
    "validate = validate.merge(ll)"
   ]
  },
  {
   "cell_type": "code",
   "execution_count": 88,
   "metadata": {
    "collapsed": true
   },
   "outputs": [],
   "source": [
    "# write to file\n",
    "train.to_csv(\"data_cleaned/training_all_counties_all_years_ll.csv\")\n",
    "validate.to_csv(\"data_cleaned/validate_all_counties_all_years_ll.csv\")"
   ]
  },
  {
   "cell_type": "code",
   "execution_count": null,
   "metadata": {
    "collapsed": true
   },
   "outputs": [],
   "source": []
  }
 ],
 "metadata": {
  "kernelspec": {
   "display_name": "Python 3",
   "language": "python",
   "name": "python3"
  },
  "language_info": {
   "codemirror_mode": {
    "name": "ipython",
    "version": 3
   },
   "file_extension": ".py",
   "mimetype": "text/x-python",
   "name": "python",
   "nbconvert_exporter": "python",
   "pygments_lexer": "ipython3",
   "version": "3.6.3"
  }
 },
 "nbformat": 4,
 "nbformat_minor": 2
}
