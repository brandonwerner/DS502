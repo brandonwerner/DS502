{
 "cells": [
  {
   "cell_type": "code",
   "execution_count": 102,
   "metadata": {
    "collapsed": true
   },
   "outputs": [],
   "source": [
    "import pandas as pd\n",
    "import numpy as np\n",
    "import os\n",
    "import matplotlib\n",
    "import numpy as np\n",
    "import matplotlib.pyplot as plt\n",
    "%matplotlib inline  "
   ]
  },
  {
   "cell_type": "code",
   "execution_count": 103,
   "metadata": {
    "collapsed": true
   },
   "outputs": [],
   "source": [
    "# write to file\n",
    "train = pd.read_csv(\"data_cleaned/training_all_counties_all_years.csv\")\n",
    "validate = pd.read_csv(\"data_cleaned/validate_all_counties_all_years.csv\")"
   ]
  },
  {
   "cell_type": "code",
   "execution_count": 104,
   "metadata": {},
   "outputs": [],
   "source": [
    "train.rename(columns={'both_gender_resp_mort': \"combined_mort_y\", \n",
    "                      \"male_resp_mort\": \"male_mort_y\", \"female_resp_mort\":\"female_mort_y\",'90th Percentile AQI':'Ninetieth Percentile AQI', 'Unhealthy for Sensitive Groups Days':'Unhealthy Sensitive Days'}, inplace=True)\n",
    "validate.rename(columns={'both_gender_resp_mort': \"combined_mort_y\", \n",
    "                      \"male_resp_mort\": \"male_mort_y\", \"female_resp_mort\":\"female_mort_y\",'90th Percentile AQI':'Ninetieth Percentile AQI', 'Unhealthy for Sensitive Groups Days':'Unhealthy Sensitive Days'}, inplace=True)\n"
   ]
  },
  {
   "cell_type": "code",
   "execution_count": 105,
   "metadata": {},
   "outputs": [
    {
     "data": {
      "text/plain": [
       "array(['Unnamed: 0', 'index', 'Unnamed: 0.1', 'FIPS', 'combined_mort_y',\n",
       "       'cause_id', 'cause_name', 'female_mort_y', 'location_id',\n",
       "       'male_mort_y', 'Year', 'Days with AQI', 'Good Days',\n",
       "       'Moderate Days', 'Unhealthy Sensitive Days', 'Unhealthy Days',\n",
       "       'Very Unhealthy Days', 'Hazardous Days', 'Max AQI',\n",
       "       'Ninetieth Percentile AQI', 'Median AQI', 'Days CO', 'Days NO2',\n",
       "       'Days Ozone', 'Days SO2', 'Days PM2.5', 'Days PM10'], dtype=object)"
      ]
     },
     "execution_count": 105,
     "metadata": {},
     "output_type": "execute_result"
    }
   ],
   "source": [
    "train.columns.values"
   ]
  },
  {
   "cell_type": "code",
   "execution_count": 106,
   "metadata": {},
   "outputs": [],
   "source": [
    "train.drop(['Unnamed: 0','index','Unnamed: 0.1','cause_id', 'cause_name','location_id'], axis=1, inplace=True)\n",
    "validate.drop(['Unnamed: 0','index','Unnamed: 0.1','cause_id', 'cause_name'], axis=1, inplace=True)\n",
    "train = train[['FIPS','combined_mort_y','female_mort_y', 'male_mort_y', 'Year', \n",
    "               'Days with AQI', 'Good Days','Moderate Days', 'Unhealthy Sensitive Days',\n",
    "               'Unhealthy Days', 'Very Unhealthy Days', 'Hazardous Days', 'Max AQI', \n",
    "               'Ninetieth Percentile AQI', 'Median AQI', 'Days CO','Days NO2', 'Days Ozone', \n",
    "               'Days SO2', 'Days PM2.5', 'Days PM10']]\n",
    "validate = validate[['FIPS','combined_mort_y','female_mort_y', 'male_mort_y', 'Year', \n",
    "               'Days with AQI', 'Good Days','Moderate Days', 'Unhealthy Sensitive Days',\n",
    "               'Unhealthy Days', 'Very Unhealthy Days', 'Hazardous Days', 'Max AQI', \n",
    "               'Ninetieth Percentile AQI', 'Median AQI', 'Days CO','Days NO2', 'Days Ozone', \n",
    "               'Days SO2', 'Days PM2.5', 'Days PM10']]"
   ]
  },
  {
   "cell_type": "code",
   "execution_count": 107,
   "metadata": {
    "collapsed": true
   },
   "outputs": [],
   "source": [
    "ll = pd.read_csv(\"lat_long.csv\")"
   ]
  },
  {
   "cell_type": "code",
   "execution_count": 108,
   "metadata": {},
   "outputs": [
    {
     "data": {
      "text/plain": [
       "array(['State', 'FIPS', 'County', 'Latitude', 'Longitude'], dtype=object)"
      ]
     },
     "execution_count": 108,
     "metadata": {},
     "output_type": "execute_result"
    }
   ],
   "source": [
    "ll.columns.values"
   ]
  },
  {
   "cell_type": "code",
   "execution_count": 109,
   "metadata": {
    "collapsed": true
   },
   "outputs": [],
   "source": [
    "ll.drop(['State', 'County'], axis=1, inplace=True)"
   ]
  },
  {
   "cell_type": "code",
   "execution_count": 110,
   "metadata": {},
   "outputs": [],
   "source": [
    "train = train.merge(ll)\n",
    "validate = validate.merge(ll)"
   ]
  },
  {
   "cell_type": "code",
   "execution_count": 114,
   "metadata": {
    "collapsed": true
   },
   "outputs": [],
   "source": [
    "# write to file\n",
    "train.to_csv(\"data_cleaned/training_all_counties_all_years_ll.csv\", index=False)\n",
    "validate.to_csv(\"data_cleaned/validate_all_counties_all_years_ll.csv\", index=False)"
   ]
  },
  {
   "cell_type": "code",
   "execution_count": 112,
   "metadata": {},
   "outputs": [
    {
     "data": {
      "text/html": [
       "<div>\n",
       "<style>\n",
       "    .dataframe thead tr:only-child th {\n",
       "        text-align: right;\n",
       "    }\n",
       "\n",
       "    .dataframe thead th {\n",
       "        text-align: left;\n",
       "    }\n",
       "\n",
       "    .dataframe tbody tr th {\n",
       "        vertical-align: top;\n",
       "    }\n",
       "</style>\n",
       "<table border=\"1\" class=\"dataframe\">\n",
       "  <thead>\n",
       "    <tr style=\"text-align: right;\">\n",
       "      <th></th>\n",
       "      <th>FIPS</th>\n",
       "      <th>combined_mort_y</th>\n",
       "      <th>female_mort_y</th>\n",
       "      <th>male_mort_y</th>\n",
       "      <th>Year</th>\n",
       "      <th>Days with AQI</th>\n",
       "      <th>Good Days</th>\n",
       "      <th>Moderate Days</th>\n",
       "      <th>Unhealthy Sensitive Days</th>\n",
       "      <th>Unhealthy Days</th>\n",
       "      <th>...</th>\n",
       "      <th>Ninetieth Percentile AQI</th>\n",
       "      <th>Median AQI</th>\n",
       "      <th>Days CO</th>\n",
       "      <th>Days NO2</th>\n",
       "      <th>Days Ozone</th>\n",
       "      <th>Days SO2</th>\n",
       "      <th>Days PM2.5</th>\n",
       "      <th>Days PM10</th>\n",
       "      <th>Latitude</th>\n",
       "      <th>Longitude</th>\n",
       "    </tr>\n",
       "  </thead>\n",
       "  <tbody>\n",
       "    <tr>\n",
       "      <th>0</th>\n",
       "      <td>41011</td>\n",
       "      <td>69.763012</td>\n",
       "      <td>64.180931</td>\n",
       "      <td>76.558495</td>\n",
       "      <td>2013</td>\n",
       "      <td>186</td>\n",
       "      <td>0.994624</td>\n",
       "      <td>0.005376</td>\n",
       "      <td>0.000000</td>\n",
       "      <td>0.0</td>\n",
       "      <td>...</td>\n",
       "      <td>23</td>\n",
       "      <td>10</td>\n",
       "      <td>0.0</td>\n",
       "      <td>0.0</td>\n",
       "      <td>0.000000</td>\n",
       "      <td>0.0</td>\n",
       "      <td>1.000000</td>\n",
       "      <td>0.0</td>\n",
       "      <td>43.184193</td>\n",
       "      <td>124.092557</td>\n",
       "    </tr>\n",
       "    <tr>\n",
       "      <th>1</th>\n",
       "      <td>41011</td>\n",
       "      <td>70.081053</td>\n",
       "      <td>63.396338</td>\n",
       "      <td>78.458067</td>\n",
       "      <td>2011</td>\n",
       "      <td>45</td>\n",
       "      <td>0.977778</td>\n",
       "      <td>0.022222</td>\n",
       "      <td>0.000000</td>\n",
       "      <td>0.0</td>\n",
       "      <td>...</td>\n",
       "      <td>36</td>\n",
       "      <td>24</td>\n",
       "      <td>0.0</td>\n",
       "      <td>0.0</td>\n",
       "      <td>0.000000</td>\n",
       "      <td>0.0</td>\n",
       "      <td>1.000000</td>\n",
       "      <td>0.0</td>\n",
       "      <td>43.184193</td>\n",
       "      <td>124.092557</td>\n",
       "    </tr>\n",
       "    <tr>\n",
       "      <th>2</th>\n",
       "      <td>41011</td>\n",
       "      <td>70.966082</td>\n",
       "      <td>65.058336</td>\n",
       "      <td>78.211803</td>\n",
       "      <td>2012</td>\n",
       "      <td>278</td>\n",
       "      <td>0.985612</td>\n",
       "      <td>0.010791</td>\n",
       "      <td>0.003597</td>\n",
       "      <td>0.0</td>\n",
       "      <td>...</td>\n",
       "      <td>31</td>\n",
       "      <td>17</td>\n",
       "      <td>0.0</td>\n",
       "      <td>0.0</td>\n",
       "      <td>0.000000</td>\n",
       "      <td>0.0</td>\n",
       "      <td>1.000000</td>\n",
       "      <td>0.0</td>\n",
       "      <td>43.184193</td>\n",
       "      <td>124.092557</td>\n",
       "    </tr>\n",
       "    <tr>\n",
       "      <th>3</th>\n",
       "      <td>27139</td>\n",
       "      <td>45.015850</td>\n",
       "      <td>34.943711</td>\n",
       "      <td>61.754472</td>\n",
       "      <td>2000</td>\n",
       "      <td>85</td>\n",
       "      <td>0.600000</td>\n",
       "      <td>0.376471</td>\n",
       "      <td>0.023529</td>\n",
       "      <td>0.0</td>\n",
       "      <td>...</td>\n",
       "      <td>78</td>\n",
       "      <td>38</td>\n",
       "      <td>0.0</td>\n",
       "      <td>0.0</td>\n",
       "      <td>0.000000</td>\n",
       "      <td>0.0</td>\n",
       "      <td>1.000000</td>\n",
       "      <td>0.0</td>\n",
       "      <td>44.651932</td>\n",
       "      <td>93.534553</td>\n",
       "    </tr>\n",
       "    <tr>\n",
       "      <th>4</th>\n",
       "      <td>27139</td>\n",
       "      <td>45.895790</td>\n",
       "      <td>37.299605</td>\n",
       "      <td>59.300249</td>\n",
       "      <td>2004</td>\n",
       "      <td>238</td>\n",
       "      <td>0.869748</td>\n",
       "      <td>0.130252</td>\n",
       "      <td>0.000000</td>\n",
       "      <td>0.0</td>\n",
       "      <td>...</td>\n",
       "      <td>54</td>\n",
       "      <td>37</td>\n",
       "      <td>0.0</td>\n",
       "      <td>0.0</td>\n",
       "      <td>0.718487</td>\n",
       "      <td>0.0</td>\n",
       "      <td>0.281513</td>\n",
       "      <td>0.0</td>\n",
       "      <td>44.651932</td>\n",
       "      <td>93.534553</td>\n",
       "    </tr>\n",
       "  </tbody>\n",
       "</table>\n",
       "<p>5 rows × 23 columns</p>\n",
       "</div>"
      ],
      "text/plain": [
       "    FIPS  combined_mort_y  female_mort_y  male_mort_y  Year  Days with AQI  \\\n",
       "0  41011        69.763012      64.180931    76.558495  2013            186   \n",
       "1  41011        70.081053      63.396338    78.458067  2011             45   \n",
       "2  41011        70.966082      65.058336    78.211803  2012            278   \n",
       "3  27139        45.015850      34.943711    61.754472  2000             85   \n",
       "4  27139        45.895790      37.299605    59.300249  2004            238   \n",
       "\n",
       "   Good Days  Moderate Days  Unhealthy Sensitive Days  Unhealthy Days  \\\n",
       "0   0.994624       0.005376                  0.000000             0.0   \n",
       "1   0.977778       0.022222                  0.000000             0.0   \n",
       "2   0.985612       0.010791                  0.003597             0.0   \n",
       "3   0.600000       0.376471                  0.023529             0.0   \n",
       "4   0.869748       0.130252                  0.000000             0.0   \n",
       "\n",
       "      ...      Ninetieth Percentile AQI  Median AQI  Days CO  Days NO2  \\\n",
       "0     ...                            23          10      0.0       0.0   \n",
       "1     ...                            36          24      0.0       0.0   \n",
       "2     ...                            31          17      0.0       0.0   \n",
       "3     ...                            78          38      0.0       0.0   \n",
       "4     ...                            54          37      0.0       0.0   \n",
       "\n",
       "   Days Ozone  Days SO2  Days PM2.5  Days PM10   Latitude   Longitude  \n",
       "0    0.000000       0.0    1.000000        0.0  43.184193  124.092557  \n",
       "1    0.000000       0.0    1.000000        0.0  43.184193  124.092557  \n",
       "2    0.000000       0.0    1.000000        0.0  43.184193  124.092557  \n",
       "3    0.000000       0.0    1.000000        0.0  44.651932   93.534553  \n",
       "4    0.718487       0.0    0.281513        0.0  44.651932   93.534553  \n",
       "\n",
       "[5 rows x 23 columns]"
      ]
     },
     "execution_count": 112,
     "metadata": {},
     "output_type": "execute_result"
    }
   ],
   "source": [
    "train.head()"
   ]
  },
  {
   "cell_type": "code",
   "execution_count": null,
   "metadata": {
    "collapsed": true
   },
   "outputs": [],
   "source": []
  }
 ],
 "metadata": {
  "kernelspec": {
   "display_name": "Python 3",
   "language": "python",
   "name": "python3"
  },
  "language_info": {
   "codemirror_mode": {
    "name": "ipython",
    "version": 3
   },
   "file_extension": ".py",
   "mimetype": "text/x-python",
   "name": "python",
   "nbconvert_exporter": "python",
   "pygments_lexer": "ipython3",
   "version": "3.6.3"
  }
 },
 "nbformat": 4,
 "nbformat_minor": 2
}
