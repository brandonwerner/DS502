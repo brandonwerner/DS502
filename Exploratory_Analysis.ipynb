{
 "cells": [
  {
   "cell_type": "code",
   "execution_count": 37,
   "metadata": {
    "collapsed": true
   },
   "outputs": [],
   "source": [
    "import pandas as pd\n",
    "import numpy as np\n",
    "import os\n",
    "import matplotlib\n",
    "import numpy as np\n",
    "import matplotlib.pyplot as plt\n",
    "%matplotlib inline  "
   ]
  },
  {
   "cell_type": "code",
   "execution_count": 231,
   "metadata": {},
   "outputs": [
    {
     "data": {
      "text/plain": [
       "(31019, 26)"
      ]
     },
     "execution_count": 231,
     "metadata": {},
     "output_type": "execute_result"
    }
   ],
   "source": [
    "# append all 508 files into one big table - each row is one county, one year \n",
    "directory = 'data_cleaned'\n",
    "\n",
    "# get 508 files\n",
    "first = True\n",
    "for filename in os.listdir(directory):\n",
    "    if first==True and filename.endswith(\"508_data.csv\"): \n",
    "        joined = pd.read_csv(os.path.join(directory, filename))\n",
    "        first = False\n",
    "    elif filename.endswith(\"508_data.csv\"):\n",
    "        df = pd.read_csv(os.path.join(directory, filename))\n",
    "        joined = joined.append(df)\n",
    "        \n",
    "joined.reset_index(inplace=True)\n",
    "joined.shape"
   ]
  },
  {
   "cell_type": "code",
   "execution_count": 232,
   "metadata": {
    "collapsed": true
   },
   "outputs": [],
   "source": [
    "# randomly split into train and validate\n",
    "train=joined.sample(frac=0.75,random_state=201,replace=False)\n",
    "validate = joined.drop(train.index)"
   ]
  },
  {
   "cell_type": "code",
   "execution_count": 233,
   "metadata": {},
   "outputs": [],
   "source": [
    "# write to file\n",
    "train.to_csv(\"data_cleaned/training_all_counties_all_years.csv\")\n",
    "validate.to_csv(\"data_cleaned/validate_all_counties_all_years.csv\")"
   ]
  },
  {
   "cell_type": "code",
   "execution_count": 239,
   "metadata": {},
   "outputs": [
    {
     "name": "stdout",
     "output_type": "stream",
     "text": [
      "(567, 24)\n"
     ]
    },
    {
     "data": {
      "text/plain": [
       "(1473, 840)"
      ]
     },
     "execution_count": 239,
     "metadata": {},
     "output_type": "execute_result"
    }
   ],
   "source": [
    "# join tables horizontally across all years\n",
    "# to see which counties are available over time\n",
    "\n",
    "directory = 'data_cleaned'\n",
    "\n",
    "# get 508 files\n",
    "first = True\n",
    "for filename in os.listdir(directory):\n",
    "    if first==True and filename.endswith(\"508_data.csv\"): \n",
    "        joined = pd.read_csv(os.path.join(directory, filename))\n",
    "        joined.set_index('Unnamed: 0', inplace=True)\n",
    "        print(joined.shape)\n",
    "        first = False\n",
    "    elif filename.endswith(\"508_data.csv\"):\n",
    "        df = pd.read_csv(os.path.join(directory, filename))\n",
    "        df.set_index('Unnamed: 0', inplace=True)\n",
    "        joined = pd.concat([df, joined], axis=1)\n",
    "        \n",
    "joined.shape"
   ]
  },
  {
   "cell_type": "markdown",
   "metadata": {},
   "source": [
    "1473 unique counties"
   ]
  },
  {
   "cell_type": "markdown",
   "metadata": {},
   "source": [
    "Only 361 counties are avaialble across all years."
   ]
  },
  {
   "cell_type": "code",
   "execution_count": 241,
   "metadata": {},
   "outputs": [
    {
     "data": {
      "text/plain": [
       "(1434, 840)"
      ]
     },
     "execution_count": 241,
     "metadata": {},
     "output_type": "execute_result"
    }
   ],
   "source": [
    "joined.dropna(thresh=34).shape"
   ]
  },
  {
   "cell_type": "code",
   "execution_count": 242,
   "metadata": {},
   "outputs": [],
   "source": [
    "nrows = 24\n",
    "count=[]\n",
    "for i in range(35):\n",
    "    count.append(joined.dropna(thresh=i*nrows).shape[0])"
   ]
  },
  {
   "cell_type": "code",
   "execution_count": 243,
   "metadata": {},
   "outputs": [],
   "source": [
    "df = pd.DataFrame()\n",
    "df[\"Number of Counties\"] = count\n",
    "df[\"Number of Years\"] = range(35)"
   ]
  },
  {
   "cell_type": "code",
   "execution_count": 244,
   "metadata": {},
   "outputs": [
    {
     "data": {
      "text/plain": [
       "<matplotlib.axes._subplots.AxesSubplot at 0x4071d93208>"
      ]
     },
     "execution_count": 244,
     "metadata": {},
     "output_type": "execute_result"
    },
    {
     "data": {
      "image/png": "[encoded data removed]",
      "text/plain": [
       "<matplotlib.figure.Figure at 0x4071ae4438>"
      ]
     },
     "metadata": {},
     "output_type": "display_data"
    }
   ],
   "source": [
    "df.plot(y=\"Number of Counties\", x=\"Number of Years\")"
   ]
  },
  {
   "cell_type": "markdown",
   "metadata": {},
   "source": [
    "Use nearby counties to impute missing values. Distance source:\n",
    "    http://www.nber.org/data/county-distance-database.html\n",
    "        \n",
    "Gives a lookup table with the distance to counties within 25 miles for every FIPS county"
   ]
  },
  {
   "cell_type": "code",
   "execution_count": 245,
   "metadata": {},
   "outputs": [],
   "source": [
    "dist = pd.read_csv(\"data/sf12010countydistance25miles.csv\", encoding='mbcs')\n",
    "all_counties = joined['FIPS']\n",
    "dist_counties = dist[\"county1\"]\n",
    "lookup_counties =np.intersect1d(dist_counties, all_counties).astype(dtype='int64')\n",
    "dist.set_index('county1', inplace=True)\n",
    "dist = dist.loc[lookup_counties]"
   ]
  },
  {
   "cell_type": "code",
   "execution_count": 189,
   "metadata": {},
   "outputs": [],
   "source": [
    "def impute_values(df, dist):\n",
    "    filled = pd.DataFrame(columns = df.columns.values)\n",
    "    for i in dist.index:\n",
    "#         check if missing air quality data\n",
    "#         print(df.loc[i]['Median AQI'])\n",
    "        if(i not in df.index):\n",
    "            print(\"inside\")\n",
    "#         get any nearby counties\n",
    "            n = np.array(dist.loc[i][\"county2\"])\n",
    "            for nbr in n:\n",
    "                if(nbr in df.index):\n",
    "                    f=df.loc[n]\n",
    "                    f['FIPS'] = i   \n",
    "                    filled.append(f)\n",
    "    return filled"
   ]
  },
  {
   "cell_type": "code",
   "execution_count": 190,
   "metadata": {},
   "outputs": [
    {
     "name": "stdout",
     "output_type": "stream",
     "text": [
      "inside\n"
     ]
    },
    {
     "ename": "TypeError",
     "evalue": "iteration over a 0-d array",
     "output_type": "error",
     "traceback": [
      "\u001b[1;31m---------------------------------------------------------------------------\u001b[0m",
      "\u001b[1;31mTypeError\u001b[0m                                 Traceback (most recent call last)",
      "\u001b[1;32m<ipython-input-190-474b1d5e2712>\u001b[0m in \u001b[0;36m<module>\u001b[1;34m()\u001b[0m\n\u001b[0;32m      6\u001b[0m         \u001b[0mdf\u001b[0m \u001b[1;33m=\u001b[0m \u001b[0mpd\u001b[0m\u001b[1;33m.\u001b[0m\u001b[0mread_csv\u001b[0m\u001b[1;33m(\u001b[0m\u001b[0mos\u001b[0m\u001b[1;33m.\u001b[0m\u001b[0mpath\u001b[0m\u001b[1;33m.\u001b[0m\u001b[0mjoin\u001b[0m\u001b[1;33m(\u001b[0m\u001b[0mdirectory\u001b[0m\u001b[1;33m,\u001b[0m \u001b[0mfilename\u001b[0m\u001b[1;33m)\u001b[0m\u001b[1;33m)\u001b[0m\u001b[1;33m\u001b[0m\u001b[0m\n\u001b[0;32m      7\u001b[0m         \u001b[0mdf\u001b[0m\u001b[1;33m.\u001b[0m\u001b[0mset_index\u001b[0m\u001b[1;33m(\u001b[0m\u001b[1;34m'FIPS'\u001b[0m\u001b[1;33m,\u001b[0m \u001b[0minplace\u001b[0m\u001b[1;33m=\u001b[0m\u001b[1;32mTrue\u001b[0m\u001b[1;33m)\u001b[0m\u001b[1;33m\u001b[0m\u001b[0m\n\u001b[1;32m----> 8\u001b[1;33m         \u001b[0mfilled\u001b[0m \u001b[1;33m=\u001b[0m \u001b[0mimpute_values\u001b[0m\u001b[1;33m(\u001b[0m\u001b[0mdf\u001b[0m\u001b[1;33m,\u001b[0m \u001b[0mdist\u001b[0m\u001b[1;33m)\u001b[0m\u001b[1;33m\u001b[0m\u001b[0m\n\u001b[0m\u001b[0;32m      9\u001b[0m         \u001b[0mprint\u001b[0m\u001b[1;33m(\u001b[0m\u001b[1;34m\"done\"\u001b[0m\u001b[1;33m)\u001b[0m\u001b[1;33m\u001b[0m\u001b[0m\n\u001b[0;32m     10\u001b[0m     \u001b[1;32mbreak\u001b[0m\u001b[1;33m\u001b[0m\u001b[0m\n",
      "\u001b[1;32m<ipython-input-189-2fe5a20bd057>\u001b[0m in \u001b[0;36mimpute_values\u001b[1;34m(df, dist)\u001b[0m\n\u001b[0;32m      8\u001b[0m \u001b[1;31m#         get any nearby counties\u001b[0m\u001b[1;33m\u001b[0m\u001b[1;33m\u001b[0m\u001b[0m\n\u001b[0;32m      9\u001b[0m             \u001b[0mn\u001b[0m \u001b[1;33m=\u001b[0m \u001b[0mnp\u001b[0m\u001b[1;33m.\u001b[0m\u001b[0marray\u001b[0m\u001b[1;33m(\u001b[0m\u001b[0mdist\u001b[0m\u001b[1;33m.\u001b[0m\u001b[0mloc\u001b[0m\u001b[1;33m[\u001b[0m\u001b[0mi\u001b[0m\u001b[1;33m]\u001b[0m\u001b[1;33m[\u001b[0m\u001b[1;34m\"county2\"\u001b[0m\u001b[1;33m]\u001b[0m\u001b[1;33m)\u001b[0m\u001b[1;33m\u001b[0m\u001b[0m\n\u001b[1;32m---> 10\u001b[1;33m             \u001b[1;32mfor\u001b[0m \u001b[0mnbr\u001b[0m \u001b[1;32min\u001b[0m \u001b[0mn\u001b[0m\u001b[1;33m:\u001b[0m\u001b[1;33m\u001b[0m\u001b[0m\n\u001b[0m\u001b[0;32m     11\u001b[0m                 \u001b[1;32mif\u001b[0m\u001b[1;33m(\u001b[0m\u001b[0mnbr\u001b[0m \u001b[1;32min\u001b[0m \u001b[0mdf\u001b[0m\u001b[1;33m.\u001b[0m\u001b[0mindex\u001b[0m\u001b[1;33m)\u001b[0m\u001b[1;33m:\u001b[0m\u001b[1;33m\u001b[0m\u001b[0m\n\u001b[0;32m     12\u001b[0m                     \u001b[0mf\u001b[0m\u001b[1;33m=\u001b[0m\u001b[0mdf\u001b[0m\u001b[1;33m.\u001b[0m\u001b[0mloc\u001b[0m\u001b[1;33m[\u001b[0m\u001b[0mn\u001b[0m\u001b[1;33m]\u001b[0m\u001b[1;33m\u001b[0m\u001b[0m\n",
      "\u001b[1;31mTypeError\u001b[0m: iteration over a 0-d array"
     ]
    }
   ],
   "source": [
    "directory = 'data_cleaned'\n",
    "\n",
    "# get 508 files\n",
    "for filename in os.listdir(directory):\n",
    "    if filename.endswith(\"508_data.csv\"): \n",
    "        df = pd.read_csv(os.path.join(directory, filename))\n",
    "        df.set_index('FIPS', inplace=True)\n",
    "        filled = impute_values(df, dist)\n",
    "        print(\"done\")\n",
    "    break"
   ]
  },
  {
   "cell_type": "code",
   "execution_count": null,
   "metadata": {
    "collapsed": true
   },
   "outputs": [],
   "source": []
  }
 ],
 "metadata": {
  "kernelspec": {
   "display_name": "Python 3",
   "language": "python",
   "name": "python3"
  },
  "language_info": {
   "codemirror_mode": {
    "name": "ipython",
    "version": 3
   },
   "file_extension": ".py",
   "mimetype": "text/x-python",
   "name": "python",
   "nbconvert_exporter": "python",
   "pygments_lexer": "ipython3",
   "version": "3.6.3"
  }
 },
 "nbformat": 4,
 "nbformat_minor": 2
}
