{
 "cells": [
  {
   "cell_type": "code",
   "execution_count": 1,
   "metadata": {
    "collapsed": true
   },
   "outputs": [],
   "source": [
    "import pandas as pd\n",
    "df1 = pd.read_csv(\"Alabama Air Quality Data.csv\")\n",
    "df2 = pd.read_csv(\"COUNTY_MORTALITY_RATES_1980-2014_NATIONAL.csv\")\n",
    "\n",
    "df1[\"newColumn\"] = df2[\"Mortality Rate, 1980*\"]\n",
    "\n",
    "df1.to_csv(\"output.csv\")"
   ]
  },
  {
   "cell_type": "code",
   "execution_count": 17,
   "metadata": {
    "scrolled": true
   },
   "outputs": [],
   "source": [
    "import pandas as pd\n",
    "df1 = pd.read_csv(\"Alabama Air Quality Data.csv\", sep='\t')\n",
    "df2 = pd.read_csv(\"COUNTY_MORTALITY_RATES_1980-2014_NATIONAL.csv\", sep='\t')\n",
    "\n",
    "#ddf2 = df2[[ \"Mortality Rate, 1980*\" , \"Mortality Rate, 1985*\" , \"Mortality Rate, 1990*\" , \"Mortality Rate, 1995*\" , \"Mortality Rate, 2000*\" , \"Mortality Rate, 2005*\" , \"Mortality Rate, 2010*\" , \"Mortality Rate, 2014*\"]]\n",
    "\n",
    "#df1[\"newColumn\"] = df2[\"Mortality Rate, 1980*\"]\n",
    "\n",
    "ddf2 = df2.iloc[:,2:11].copy()\n",
    "\n",
    "#df = df1.set_index('FIPS').join(ddf2.set_index('FIPS'))\n",
    "df = pd.concat([df1, ddf2])\n",
    "\n",
    "df.to_csv(\"finalData.csv\")\n",
    "\n",
    "ddf2.to_csv(\"file2.csv\")\n",
    "\n",
    "#df1.to_csv(\"output.csv\")"
   ]
  },
  {
   "cell_type": "code",
   "execution_count": null,
   "metadata": {
    "collapsed": true
   },
   "outputs": [],
   "source": []
  }
 ],
 "metadata": {
  "kernelspec": {
   "display_name": "Python 3",
   "language": "python",
   "name": "python3"
  },
  "language_info": {
   "codemirror_mode": {
    "name": "ipython",
    "version": 3
   },
   "file_extension": ".py",
   "mimetype": "text/x-python",
   "name": "python",
   "nbconvert_exporter": "python",
   "pygments_lexer": "ipython3",
   "version": "3.6.1"
  }
 },
 "nbformat": 4,
 "nbformat_minor": 2
}
